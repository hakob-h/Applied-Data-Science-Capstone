{
 "cells": [
  {
   "cell_type": "markdown",
   "metadata": {},
   "source": [
    "## The Battle of the Neighborhoods - Part 1 by Thiago Nunes\n",
    "\n",
    "### Introduction :\n",
    "\n",
    "The City of New York, is the most populous city in the United States. It is diverse and is the financial capital of USA. It is multicultural. It provides lot of business opportunities and business friendly environment. It has attracted many different players into the market. It is a global hub of business and commerce. The city is a major center for banking and finance, retailing, world trade, transportation, tourism, real estate, new media, traditional media, advertising, legal services, accountancy, insurance, theater, fashion, and the arts in the United States.\n",
    "\n",
    "This also means that the market is highly competitive. As it is highly developed city so cost of doing business is also one of the highest.\n",
    "Thus, any new business venture or expansion needs to be analyzed carefully. The insights derived from analysis will give good understanding \n",
    "of the business environment which help in strategically targeting the market. This will help in reduction of risk. And the Return on Investment will be reasonable.\n",
    "\n",
    "###  Problem to be solved:\n",
    "\n",
    "A restaurant is a business which prepares and serves food and drink to customers in return for money, either paid before the meal, after the meal, or with an open account. The City of New York is famous for its excellent cuisine. It's food culture includes an array of international cuisines influenced by the city's immigrant history.<Br> \n",
    "1. Central and Eastern European immigrants, especially Jewish immigrants - bagels, cheesecake, hot dogs, knishes, and delicatessens<Br> \n",
    "2. Italian immigrants - New York-style pizza and Italian cuisine<Br>\n",
    "3. Jewish immigrants and Irish immigrants - pastrami and corned beef<Br>\n",
    "4. Chinese and other Asian restaurants, sandwich joints, diners, and coffeehouses are ubiquitous throughout the city<Br>\n",
    "5. mobile food vendors - Some 4,000 licensed by the city<Br>\n",
    "6. Middle Eastern foods such as falafel and kebabs examples of modern New York street food<Br>\n",
    "7. It is famous for not just Pizzerias, Cafes but also for fine dining Michelin starred restaurants.The city is home to \"nearly one thousand of the finest and most diverse cuisine restaurants in the world\", according to Michelin. \n",
    "\n",
    "So it is evident that to survive in such competitive market it is very important to strategically plan. Various factors need to be studied in order to decide on the Location such as : <Br>\n",
    "1. New York Population <Br>\n",
    "2. New York City Demographics <Br>\n",
    "2. Are there any Farmers Markets, Wholesale markets etc nearby so that the ingredients can be purchased fresh to maintain quality and cost?<Br>\n",
    "3. Are there any venues like Gyms, Entertainment zones, Parks etc nearby where floating population is high etc <Br>\n",
    "4. Who are the competitors in that location? <Br>\n",
    "5. Cuisine served / Menu of the competitors <Br>\n",
    "6. Segmentation of the Borough <Br>\n",
    "7. Untapped markets <Br>\n",
    "8. Saturated markets etc<Br>\n",
    "The list can go on...\n",
    "    \n",
    "So well funded XYZ Company Ltd. need to choose the correct location to start its first venture.If this is successful they can replicate the same in other locations. First move is very important, thereby choice of location is very important.\n",
    "    \n",
    "### Target Audience of the study:\n",
    "    \n",
    "To recommend the correct location, XYZ Company Ltd has appointed me to lead of the Data Science team. The objective is to locate and recommend to the management which neighborhood of New York city will be best choice to start a restaurant. The Management also expects to understand the rationale of the recommendations made.\n",
    "\n",
    "This would interest anyone who wants to start a new restaurant in New York City.\n",
    "    \n",
    "###  Completion Criteria:\n",
    "    \n",
    "The completion (success) criteria of the project will be a good recommendation of borough/Neighborhood choice to XYZ Company Ltd based on Lack of such restaurants in that location and nearest suppliers of ingredients. \n",
    "    "
   ]
  },
  {
   "cell_type": "code",
   "execution_count": null,
   "metadata": {},
   "outputs": [],
   "source": []
  }
 ],
 "metadata": {
  "kernelspec": {
   "display_name": "Python",
   "language": "python",
   "name": "conda-env-python-py"
  },
  "language_info": {
   "codemirror_mode": {
    "name": "ipython",
    "version": 3
   },
   "file_extension": ".py",
   "mimetype": "text/x-python",
   "name": "python",
   "nbconvert_exporter": "python",
   "pygments_lexer": "ipython3",
   "version": "3.6.7"
  }
 },
 "nbformat": 4,
 "nbformat_minor": 4
}
